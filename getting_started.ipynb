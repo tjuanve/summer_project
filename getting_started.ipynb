{
 "cells": [
  {
   "cell_type": "code",
   "execution_count": 2,
   "metadata": {},
   "outputs": [
    {
     "name": "stdout",
     "output_type": "stream",
     "text": [
      "The autoreload extension is already loaded. To reload it, use:\n",
      "  %reload_ext autoreload\n"
     ]
    }
   ],
   "source": [
    "%load_ext autoreload\n",
    "%autoreload 2"
   ]
  },
  {
   "cell_type": "markdown",
   "metadata": {},
   "source": [
    "# Flavor composition analysis\n",
    "\n",
    "They key challenge in measuring the flavor composition of astrophysical neutrinos is distinguishing single cascades (produced by $\\nu_e$ CC and $\\nu$ NC intercations) from double cascades produced by tau neutrinos. \n",
    "\n",
    "We run two dedicated reconstruction algorithm:\n",
    "- Monopod for single cascades\n",
    "- Taupede for double cascades\n",
    "You can read more about them here: https://link.springer.com/article/10.1140/epjc/s10052-022-10795-y\n",
    "\n",
    "Certain single cascade events are reconstructed with long tau lengths, contaminating the double cascade sample with tau neutrinos. "
   ]
  },
  {
   "cell_type": "markdown",
   "metadata": {},
   "source": [
    "In this notebook we have a hdf5 file that summarized 4000 files with simulated electron neutrino interactions. All these events are reconstructed with both reconstruction algorithms. I am very curious if we can find out which class of events are reconstructed with long lengths and why. The next step would be to improve our algorithms and do an enhanced flavor composition measurement."
   ]
  },
  {
   "cell_type": "markdown",
   "metadata": {},
   "source": [
    "We have the following files that contain\n",
    "/data/user/tvaneede/GlobalFit/reco_processing/hdf/output/v2_allvar/NuE_22612.h5\n",
    "* 2000 files\n",
    "* Simulated neutrino energy: $6 < \\log_{10} E_\\nu < 8$\n",
    "\n",
    "/data/user/tvaneede/GlobalFit/reco_processing/hdf/output/v2_allvar/NuE_22613.h5\n",
    "* 1997 files\n",
    "* Simulated neutrino energy: $4 < \\log_{10} E_\\nu < 6$"
   ]
  },
  {
   "cell_type": "code",
   "execution_count": 27,
   "metadata": {},
   "outputs": [],
   "source": [
    "import numpy as np\n",
    "import matplotlib.pyplot as plt\n",
    "import pandas as pd\n",
    "import tables\n"
   ]
  },
  {
   "cell_type": "code",
   "execution_count": 5,
   "metadata": {},
   "outputs": [],
   "source": [
    "file_path_22612 = \"/data/user/tvaneede/GlobalFit/reco_processing/hdf/output/v2_allvar/NuE_22613.h5\"\n",
    "hdf_22612 = pd.HDFStore(file_path_22612,'r')"
   ]
  },
  {
   "cell_type": "markdown",
   "metadata": {},
   "source": [
    "The events are simulated according to a certain neutrino spectrum. If you want to properly weight them, you should use the simweights package. Read more about it here:\n",
    "https://docs.icecube.aq/simweights/main/getting_started.html"
   ]
  },
  {
   "cell_type": "code",
   "execution_count": 7,
   "metadata": {},
   "outputs": [],
   "source": [
    "import simweights"
   ]
  },
  {
   "cell_type": "markdown",
   "metadata": {},
   "source": [
    "I use the astrophysical HESE flux found by Neha to weight the events. I can send you her thesis later."
   ]
  },
  {
   "cell_type": "code",
   "execution_count": 13,
   "metadata": {},
   "outputs": [],
   "source": [
    "# astro\n",
    "gamma_astro = 2.87\n",
    "per_flavor_norm = 2.12\n",
    "livetime_s = 12*365*24*60*60 # 12 yr\n",
    "def AstroFluxModel(pdgid, energy, cos_zen):\n",
    "    flux = 0.5*(per_flavor_norm*1e-18)*(energy/1e5)**-gamma_astro\n",
    "    return flux"
   ]
  },
  {
   "cell_type": "code",
   "execution_count": 14,
   "metadata": {},
   "outputs": [],
   "source": [
    "weighter_22612 = simweights.NuGenWeighter( hdf_22612,nfiles=2000)\n",
    "weights_22612 = weighter_22612.get_weights(AstroFluxModel) * livetime_s "
   ]
  },
  {
   "cell_type": "markdown",
   "metadata": {},
   "source": [
    "Now we can make plots and investigate! For example, the true neutrino energy"
   ]
  },
  {
   "cell_type": "code",
   "execution_count": 21,
   "metadata": {},
   "outputs": [
    {
     "data": {
      "text/plain": [
       "<matplotlib.legend.Legend at 0x7fda3372faa0>"
      ]
     },
     "execution_count": 21,
     "metadata": {},
     "output_type": "execute_result"
    },
    {
     "data": {
      "image/png": "[encoded data removed]",
      "text/plain": [
       "<Figure size 800x700 with 1 Axes>"
      ]
     },
     "metadata": {},
     "output_type": "display_data"
    }
   ],
   "source": [
    "energy_nu = weighter_22612.get_column(\"I3MCWeightDict\", \"PrimaryNeutrinoEnergy\")\n",
    "\n",
    "bins = np.geomspace(1e4, 1e6, 20)\n",
    "\n",
    "fig, ax = plt.subplots(1, 1,figsize =(8,7))\n",
    "\n",
    "hist, _ = np.histogram(energy_nu, bins=bins, weights=weights_22612)\n",
    "\n",
    "ax.hist(energy_nu, weights=weights_22612, \n",
    "        bins=bins, histtype=\"step\", label=\"22612\", color=\"C0\")\n",
    "\n",
    "ax.set_title(r\"$\\nu_e$ astro, $\\gamma = 2.87$, $\\phi_0=2.12$, $10^4 < E_\\nu < 10^6$, HESE\")\n",
    "ax.set_xscale(\"log\")\n",
    "ax.set_yscale(\"log\")\n",
    "ax.set_ylabel(\"Rate / livetime\")\n",
    "ax.set_xlabel(r\"$E_\\nu$ [GeV]\")\n",
    "ax.legend(title=\"Dataset\")\n"
   ]
  },
  {
   "cell_type": "markdown",
   "metadata": {},
   "source": [
    "The taupede reconstruction is stored under key `TaupedeFit_iMIGRAD_PPB0`, and Monopod with `MonopodFit_iMIGRAD_PPB0`. If you want to see which other keys are available you can run\n",
    "```python\n",
    "import tables\n",
    "\n",
    "tf = tables.open_file(file_path_22612)\n",
    "\n",
    "for node in tf.walk_nodes(\"/\", classname=None):\n",
    "    print(node)\n",
    "```"
   ]
  }
 ],
 "metadata": {
  "kernelspec": {
   "display_name": "py3-v4.4.1_reco-v1.1.0",
   "language": "python",
   "name": "python3"
  },
  "language_info": {
   "codemirror_mode": {
    "name": "ipython",
    "version": 3
   },
   "file_extension": ".py",
   "mimetype": "text/x-python",
   "name": "python",
   "nbconvert_exporter": "python",
   "pygments_lexer": "ipython3",
   "version": "3.12.5"
  }
 },
 "nbformat": 4,
 "nbformat_minor": 2
}
